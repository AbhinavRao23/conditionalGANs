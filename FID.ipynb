{
  "nbformat": 4,
  "nbformat_minor": 0,
  "metadata": {
    "colab": {
      "provenance": [],
      "gpuType": "T4"
    },
    "kernelspec": {
      "name": "python3",
      "display_name": "Python 3"
    },
    "language_info": {
      "name": "python"
    },
    "accelerator": "GPU",
    "gpuClass": "standard"
  },
  "cells": [
    {
      "cell_type": "code",
      "execution_count": null,
      "metadata": {
        "colab": {
          "base_uri": "https://localhost:8080/"
        },
        "id": "9urWXAnrRBYQ",
        "outputId": "3361268d-566c-43a9-e1c7-ce7aad0efc57"
      },
      "outputs": [
        {
          "output_type": "stream",
          "name": "stdout",
          "text": [
            "Drive already mounted at /content/gdrive; to attempt to forcibly remount, call drive.mount(\"/content/gdrive\", force_remount=True).\n",
            "cuda\n"
          ]
        }
      ],
      "source": [
        "# Standard Libraries\n",
        "import matplotlib.pyplot as plt\n",
        "import numpy as np\n",
        "import pandas as pd\n",
        "import time\n",
        "import math\n",
        "import json\n",
        "import os\n",
        "import pickle \n",
        "%matplotlib inline\n",
        "\n",
        "# Neural Network Libraries\n",
        "import torch\n",
        "import torch.nn as nn\n",
        "import torchvision\n",
        "from torch.autograd import Variable\n",
        "from torchvision.utils import make_grid\n",
        "import torch.nn.functional as F\n",
        "from torchvision import datasets, transforms\n",
        "import scipy.linalg as linalg\n",
        "#for colab purposes only\n",
        "from google.colab import drive\n",
        "drive.mount('/content/gdrive')\n",
        "device = torch.device(\"cuda\" if torch.cuda.is_available() else \"cpu\")\n",
        "print(device)"
      ]
    },
    {
      "cell_type": "code",
      "source": [
        "nSamples = 5000"
      ],
      "metadata": {
        "id": "mTFQC_6N9wXD"
      },
      "execution_count": null,
      "outputs": []
    },
    {
      "cell_type": "code",
      "source": [
        "#Courtesy https://github.com/vfcosta/coegan.git\n",
        "\n",
        "def FID(mu1, sigma1, mu2, sigma2, eps=1e-6):\n",
        "    \"\"\"Numpy implementation of the Frechet Distance.\n",
        "    The Frechet distance between two multivariate Gaussians X_1 ~ N(mu_1, C_1)\n",
        "    and X_2 ~ N(mu_2, C_2) is\n",
        "            d^2 = ||mu_1 - mu_2||^2 + Tr(C_1 + C_2 - 2*sqrt(C_1*C_2)).\n",
        "    Stable version by Dougal J. Sutherland.\n",
        "    Params:\n",
        "    -- mu1   : Numpy array containing the activations of a layer of the\n",
        "               inception net (like returned by the function 'get_predictions')\n",
        "               for generated samples.\n",
        "    -- mu2   : The sample mean over activations, precalculated on an \n",
        "               representive data set.\n",
        "    -- sigma1: The covariance matrix over activations for generated samples.\n",
        "    -- sigma2: The covariance matrix over activations, precalculated on an \n",
        "               representive data set.\n",
        "    Returns:\n",
        "    --   : The Frechet Distance.\n",
        "    \"\"\"\n",
        "    import time\n",
        "\n",
        "    mu1 = np.atleast_1d(mu1)\n",
        "    mu2 = np.atleast_1d(mu2)\n",
        "\n",
        "    sigma1 = np.atleast_2d(sigma1)\n",
        "    sigma2 = np.atleast_2d(sigma2)\n",
        "\n",
        "    assert mu1.shape == mu2.shape, \\\n",
        "        'Training and test mean vectors have different lengths'\n",
        "    assert sigma1.shape == sigma2.shape, \\\n",
        "        'Training and test covariances have different dimensions'\n",
        "\n",
        "    diff = mu1 - mu2\n",
        "    start_time = time.time()\n",
        "\n",
        "    # Product might be almost singular\n",
        "    covmean, _ = linalg.sqrtm(sigma1.dot(sigma2), disp=False)\n",
        "    if not np.isfinite(covmean).all():\n",
        "        msg = ('fid calculation produces singular product; '\n",
        "               'adding %s to diagonal of cov estimates') % eps\n",
        "        print(msg)\n",
        "        offset = np.eye(sigma1.shape[0]) * eps\n",
        "        covmean = linalg.sqrtm((sigma1 + offset).dot(sigma2 + offset))\n",
        "\n",
        "    # Numerical error might give slight imaginary component\n",
        "    if np.iscomplexobj(covmean):\n",
        "        if not np.allclose(np.diagonal(covmean).imag, 0, atol=1e-3):\n",
        "            m = np.max(np.abs(covmean.imag))\n",
        "            # raise ValueError('Imaginary component {}'.format(m))\n",
        "            # print('Imaginary component {}'.format(m))\n",
        "        covmean = covmean.real\n",
        "\n",
        "    tr_covmean = np.trace(covmean)\n",
        "\n",
        "    return (diff.dot(diff) + np.trace(sigma1) +\n",
        "            np.trace(sigma2) - 2 * tr_covmean)"
      ],
      "metadata": {
        "id": "472NDiXx8B5N"
      },
      "execution_count": null,
      "outputs": []
    },
    {
      "cell_type": "code",
      "source": [
        "dataDim = 784 # 28x28\n",
        "labelDim = 10 # 0-9 \n",
        "noiseDim = 100 # Z dimension "
      ],
      "metadata": {
        "id": "ThExf78ffghl"
      },
      "execution_count": null,
      "outputs": []
    },
    {
      "cell_type": "code",
      "source": [
        "class Net(nn.Module):\n",
        "    def __init__(self):\n",
        "        super(Net, self).__init__()\n",
        "        self.fc1 = nn.Linear(28*28, 50)\n",
        "        self.fc1_drop = nn.Dropout(0.2)\n",
        "        self.fc2 = nn.Linear(50, 50)\n",
        "        self.fc2_drop = nn.Dropout(0.2)\n",
        "        self.fc3 = nn.Linear(50, 10)\n",
        "\n",
        "    def forward(self, x):\n",
        "        x = x.view(-1, 28*28)\n",
        "        x = F.relu(self.fc1(x))\n",
        "        x = self.fc1_drop(x)\n",
        "        x = F.relu(self.fc2(x))\n",
        "        x = self.fc2_drop(x)\n",
        "        return F.log_softmax(self.fc3(x), dim=1)\n",
        "\n",
        "encPath = '/content/gdrive/MyDrive/Colab Notebooks/GAN/mnistModel.pkl'\n",
        "with open(encPath, 'rb') as f:\n",
        "    classifier = pickle.load(f)\n",
        "\n",
        "classifier.to(device)"
      ],
      "metadata": {
        "id": "6P-Okn8iT0_V",
        "colab": {
          "base_uri": "https://localhost:8080/"
        },
        "outputId": "693108e1-430a-43f7-8499-85fe38db6698"
      },
      "execution_count": null,
      "outputs": [
        {
          "output_type": "execute_result",
          "data": {
            "text/plain": [
              "Net(\n",
              "  (fc1): Linear(in_features=784, out_features=50, bias=True)\n",
              "  (fc1_drop): Dropout(p=0.2, inplace=False)\n",
              "  (fc2): Linear(in_features=50, out_features=50, bias=True)\n",
              "  (fc2_drop): Dropout(p=0.2, inplace=False)\n",
              "  (fc3): Linear(in_features=50, out_features=10, bias=True)\n",
              ")"
            ]
          },
          "metadata": {},
          "execution_count": 5
        }
      ]
    },
    {
      "cell_type": "code",
      "source": [
        "class Generator(nn.Module):\n",
        "    def __init__(self):\n",
        "        super().__init__()\n",
        "        \n",
        "        self.labelEmbedding = nn.Embedding(labelDim, labelDim)\n",
        "        \n",
        "        self.model = nn.Sequential(\n",
        "            nn.Linear(noiseDim + labelDim , 250),\n",
        "            nn.LeakyReLU(leakyReLUNegSlope, inplace=True),\n",
        "            nn.Linear(250, 500),\n",
        "            nn.LeakyReLU(leakyReLUNegSlope, inplace=True),\n",
        "            nn.Linear(500, 1000),\n",
        "            nn.LeakyReLU(leakyReLUNegSlope, inplace=True),\n",
        "            nn.Linear(1000, dataDim),\n",
        "            nn.Tanh()\n",
        "        )\n",
        "    \n",
        "    def forward(self, z, labels):\n",
        "        z = z.view(z.size(0), noiseDim)\n",
        "        c = self.labelEmbedding(labels)\n",
        "        x = torch.cat([z, c], 1)\n",
        "        out = self.model(x)\n",
        "        return out.view(x.size(0),int(np.sqrt(dataDim)),int(np.sqrt(dataDim)))\n",
        "\n",
        "def generateSamples(generator, nSamples, random=True):\n",
        "    if not random:\n",
        "        return generator(torch.randn(nSamples, noiseDim).to(device),\n",
        "                     torch.LongTensor(np.arange(nSamples)%10).to(device))\n",
        "    return generator(torch.randn(nSamples, noiseDim).to(device),\n",
        "                     torch.LongTensor(np.random.randint(0, labelDim, nSamples)).to(device))\n",
        "\n"
      ],
      "metadata": {
        "id": "VVDiL1lTRMcS"
      },
      "execution_count": null,
      "outputs": []
    },
    {
      "cell_type": "code",
      "source": [
        "transform = torchvision.transforms.Compose([\n",
        "    torchvision.transforms.ToTensor(),\n",
        "    torchvision.transforms.Normalize([0.5], [0.5]) \n",
        "])\n",
        "\n",
        "\n",
        "\n",
        "dataset = datasets.MNIST('./data', \n",
        "                          train=True, \n",
        "                          download=True,\n",
        "                          transform=transform)\n",
        "\n",
        "loader = torch.utils.data.DataLoader(dataset=dataset, \n",
        "                                      batch_size=nSamples, \n",
        "                                      shuffle=True)\n",
        "\n",
        "x = (next(iter(loader))[0]).to(device)\n",
        "\n",
        "activation = {}\n",
        "def get_activation(name):\n",
        "    def hook(model, input, output):\n",
        "        activation[name] = output.detach()\n",
        "    return hook\n",
        "\n",
        "\n",
        "\n",
        "output = classifier(x)\n",
        "classifier.fc2.register_forward_hook(get_activation('fc2'))\n",
        "realEncodings = activation['fc2']\n",
        "muReal = realEncodings.mean(axis=0)\n",
        "covReal = realEncodings.T.cov()"
      ],
      "metadata": {
        "id": "w5KH_XvwSp9n"
      },
      "execution_count": null,
      "outputs": []
    },
    {
      "cell_type": "code",
      "source": [
        "def generatedEncondingMaker(genPath,nSamples=1000):\n",
        "    activation = {}\n",
        "    def get_activation(name):\n",
        "        def hook(model, input, output):\n",
        "            activation[name] = output.detach()\n",
        "        return hook\n",
        "\n",
        "    with open(genPath, 'rb') as f:\n",
        "        generator = pickle.load(f)\n",
        "\n",
        "    activation = {}\n",
        "    classifier.fc2.register_forward_hook(get_activation('fc2'))\n",
        "    x = generateSamples(generator, nSamples)\n",
        "    output = classifier(x)\n",
        "    generatedEncodings = activation['fc2']\n",
        "    return generatedEncodings"
      ],
      "metadata": {
        "id": "0smk_AYefX_a"
      },
      "execution_count": null,
      "outputs": []
    },
    {
      "cell_type": "code",
      "source": [
        "genPaths = {\n",
        "    'log1':'/content/gdrive/MyDrive/Colab Notebooks/GAN/log1/generator',\n",
        "    'log2':'/content/gdrive/MyDrive/Colab Notebooks/GAN/log2/generator',\n",
        "    'log3':'/content/gdrive/MyDrive/Colab Notebooks/GAN/log3/generator',\n",
        "    'log4':'/content/gdrive/MyDrive/Colab Notebooks/GAN/log4/generator',\n",
        "    'log5':'/content/gdrive/MyDrive/Colab Notebooks/GAN/log5/generator',\n",
        "    'log6':'/content/gdrive/MyDrive/Colab Notebooks/GAN/log6/generator',\n",
        "    'log7':'/content/gdrive/MyDrive/Colab Notebooks/GAN/log7/generator',\n",
        "    'log8':'/content/gdrive/MyDrive/Colab Notebooks/GAN/log8/generator.pkl',\n",
        "    'log9':'/content/gdrive/MyDrive/Colab Notebooks/GAN/log9/generator.pkl',\n",
        "    'log10':'/content/gdrive/MyDrive/Colab Notebooks/GAN/log10/generator.pkl'\n",
        "}\n",
        "\n",
        "for log,genPath in genPaths.items():\n",
        "    generatedEncodings = generatedEncondingMaker(genPath,nSamples = nSamples)\n",
        "    muGenerated = generatedEncodings.mean(axis=0)\n",
        "    covGenerated = generatedEncodings.T.cov()\n",
        "    fid = FID(muReal.to('cpu'), covReal.to('cpu'), muGenerated.to('cpu'), covGenerated.to('cpu'))\n",
        "    print('FID for generator with logfile \\\"'+ log + '\\\" is ' + str(round(fid,4)))"
      ],
      "metadata": {
        "colab": {
          "base_uri": "https://localhost:8080/"
        },
        "id": "0tksXpUhxwqf",
        "outputId": "fd0df7dc-b1c1-4706-c3de-aade0bfd67f1"
      },
      "execution_count": null,
      "outputs": [
        {
          "output_type": "stream",
          "name": "stdout",
          "text": [
            "FID for generator with logfile \"log1\" is 2.6929\n",
            "FID for generator with logfile \"log2\" is 1.271\n",
            "FID for generator with logfile \"log3\" is 1.7456\n",
            "FID for generator with logfile \"log4\" is 3.6701\n",
            "FID for generator with logfile \"log5\" is 167.5097\n",
            "FID for generator with logfile \"log6\" is 1.7497\n",
            "FID for generator with logfile \"log7\" is 2.0212\n",
            "FID for generator with logfile \"log8\" is 0.9597\n",
            "FID for generator with logfile \"log9\" is 0.6166\n",
            "FID for generator with logfile \"log10\" is 1.4947\n"
          ]
        }
      ]
    },
    {
      "cell_type": "code",
      "source": [],
      "metadata": {
        "id": "Pg1143Qx2tii"
      },
      "execution_count": null,
      "outputs": []
    },
    {
      "cell_type": "code",
      "source": [],
      "metadata": {
        "id": "hK6iIcXu2xsv"
      },
      "execution_count": null,
      "outputs": []
    },
    {
      "cell_type": "code",
      "source": [
        "print(fid)"
      ],
      "metadata": {
        "id": "K9EgA0yu41Rx"
      },
      "execution_count": null,
      "outputs": []
    },
    {
      "cell_type": "code",
      "source": [],
      "metadata": {
        "id": "L-rpjGX39hwG"
      },
      "execution_count": null,
      "outputs": []
    }
  ]
}